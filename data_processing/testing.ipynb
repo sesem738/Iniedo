{
 "cells": [
  {
   "cell_type": "code",
   "execution_count": 5,
   "metadata": {},
   "outputs": [],
   "source": [
    "import rosbag"
   ]
  },
  {
   "cell_type": "code",
   "execution_count": 6,
   "metadata": {},
   "outputs": [
    {
     "name": "stdout",
     "output_type": "stream",
     "text": [
      "TypesAndTopicsTuple(msg_types={'nav_msgs/Odometry': 'cd5e73d190d741a2f92e81eda573aca7', 'sensor_msgs/CameraInfo': 'c9a58c1b0b154e0e6da7578cb991d214', 'sensor_msgs/Image': '060021388200f6f0f447d0fcd9c64743', 'sensor_msgs/Imu': '6a62c6daae103f4ff57a132d6f95cec2'}, topics={'/husky_velocity_controller/odom': TopicTuple(msg_type='nav_msgs/Odometry', message_count=1291, connections=1, frequency=10.09683010437931), '/zed/zed_node/depth/camera_info': TopicTuple(msg_type='sensor_msgs/CameraInfo', message_count=1925, connections=1, frequency=14.907329972259591), '/zed/zed_node/depth/depth_registered': TopicTuple(msg_type='sensor_msgs/Image', message_count=1925, connections=1, frequency=14.91212651279207), '/zed/zed_node/imu/data': TopicTuple(msg_type='sensor_msgs/Imu', message_count=46158, connections=1, frequency=398.84975275770256), '/zed/zed_node/odom': TopicTuple(msg_type='nav_msgs/Odometry', message_count=1925, connections=1, frequency=14.902642415801198), '/zed/zed_node/rgb/camera_info': TopicTuple(msg_type='sensor_msgs/CameraInfo', message_count=3850, connections=1, frequency=341.5278886084195), '/zed/zed_node/rgb/image_rect_color': TopicTuple(msg_type='sensor_msgs/Image', message_count=1925, connections=1, frequency=14.906005504942543)})\n"
     ]
    }
   ],
   "source": [
    "bag = rosbag.Bag('zed_trial.bag')\n",
    "topics = bag.get_type_and_topic_info()\n",
    "print(topics)\n"
   ]
  },
  {
   "cell_type": "code",
   "execution_count": 7,
   "metadata": {},
   "outputs": [
    {
     "name": "stdout",
     "output_type": "stream",
     "text": [
      "1714671744.5199575\n",
      "1714671873.66602\n"
     ]
    }
   ],
   "source": [
    "print(bag.get_start_time())\n",
    "print(bag.get_end_time())"
   ]
  }
 ],
 "metadata": {
  "kernelspec": {
   "display_name": "zod",
   "language": "python",
   "name": "python3"
  },
  "language_info": {
   "codemirror_mode": {
    "name": "ipython",
    "version": 3
   },
   "file_extension": ".py",
   "mimetype": "text/x-python",
   "name": "python",
   "nbconvert_exporter": "python",
   "pygments_lexer": "ipython3",
   "version": "3.9.12"
  }
 },
 "nbformat": 4,
 "nbformat_minor": 2
}
