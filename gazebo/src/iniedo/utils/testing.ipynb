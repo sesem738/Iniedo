{
 "cells": [
  {
   "cell_type": "code",
   "execution_count": 2,
   "metadata": {},
   "outputs": [
    {
     "name": "stdout",
     "output_type": "stream",
     "text": [
      "[1 2 3]\n"
     ]
    }
   ],
   "source": [
    "import numpy as np\n",
    "\n",
    "# Create a numpy array\n",
    "my_array = np.array([1, 2, 3, 4, 5, 6])\n",
    "\n",
    "# Get the first three indices\n",
    "first_three_indices = my_array[:3]\n",
    "\n",
    "# Print the result\n",
    "print(first_three_indices)"
   ]
  }
 ],
 "metadata": {
  "kernelspec": {
   "display_name": "iniedo",
   "language": "python",
   "name": "python3"
  },
  "language_info": {
   "codemirror_mode": {
    "name": "ipython",
    "version": 3
   },
   "file_extension": ".py",
   "mimetype": "text/x-python",
   "name": "python",
   "nbconvert_exporter": "python",
   "pygments_lexer": "ipython3",
   "version": "3.10.14"
  }
 },
 "nbformat": 4,
 "nbformat_minor": 2
}
